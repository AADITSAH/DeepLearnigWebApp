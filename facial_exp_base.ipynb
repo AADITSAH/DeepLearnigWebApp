{
  "nbformat": 4,
  "nbformat_minor": 0,
  "metadata": {
    "colab": {
      "name": "facial_exp_base.ipynb",
      "provenance": []
    },
    "kernelspec": {
      "name": "python3",
      "display_name": "Python 3"
    },
    "accelerator": "GPU"
  },
  "cells": [
    {
      "cell_type": "code",
      "metadata": {
        "colab": {
          "base_uri": "https://localhost:8080/"
        },
        "id": "ofzrMfmpLgFI",
        "outputId": "16970e4c-13b3-4371-91af-a84c8990afdf"
      },
      "source": [
        "from google.colab import drive\r\n",
        "drive.mount('/content/drive')"
      ],
      "execution_count": null,
      "outputs": [
        {
          "output_type": "stream",
          "text": [
            "Drive already mounted at /content/drive; to attempt to forcibly remount, call drive.mount(\"/content/drive\", force_remount=True).\n"
          ],
          "name": "stdout"
        }
      ]
    },
    {
      "cell_type": "code",
      "metadata": {
        "id": "1UAxLJaeJL9K"
      },
      "source": [
        "import numpy as np # linear algebra\r\n",
        "import pandas as pd # data processing, CSV file I/O (e.g. pd.read_csv)\r\n",
        "import tensorflow as tf\r\n",
        "\r\n",
        "import os\r\n"
      ],
      "execution_count": null,
      "outputs": []
    },
    {
      "cell_type": "code",
      "metadata": {
        "colab": {
          "base_uri": "https://localhost:8080/",
          "height": 355
        },
        "id": "_-zWMhbDMpBU",
        "outputId": "21eadb26-7e7e-44f7-dd4e-db19bbfe7196"
      },
      "source": [
        "filname = 'drive/MyDrive/face_exp/fer2013.csv'\r\n",
        "label_map = ['Anger', 'Disgust', 'Fear', 'Happy', 'Sad', 'Surprise', 'Neutral']\r\n",
        "names=['emotion','pixels','usage']\r\n",
        "df=pd.read_csv('drive/MyDrive/face_exp/fer2013.csv',names=names, na_filter=False)\r\n",
        "im=df['pixels']\r\n",
        "df.head(10)"
      ],
      "execution_count": null,
      "outputs": [
        {
          "output_type": "execute_result",
          "data": {
            "text/html": [
              "<div>\n",
              "<style scoped>\n",
              "    .dataframe tbody tr th:only-of-type {\n",
              "        vertical-align: middle;\n",
              "    }\n",
              "\n",
              "    .dataframe tbody tr th {\n",
              "        vertical-align: top;\n",
              "    }\n",
              "\n",
              "    .dataframe thead th {\n",
              "        text-align: right;\n",
              "    }\n",
              "</style>\n",
              "<table border=\"1\" class=\"dataframe\">\n",
              "  <thead>\n",
              "    <tr style=\"text-align: right;\">\n",
              "      <th></th>\n",
              "      <th>emotion</th>\n",
              "      <th>pixels</th>\n",
              "      <th>usage</th>\n",
              "    </tr>\n",
              "  </thead>\n",
              "  <tbody>\n",
              "    <tr>\n",
              "      <th>0</th>\n",
              "      <td>emotion</td>\n",
              "      <td>pixels</td>\n",
              "      <td>Usage</td>\n",
              "    </tr>\n",
              "    <tr>\n",
              "      <th>1</th>\n",
              "      <td>0</td>\n",
              "      <td>70 80 82 72 58 58 60 63 54 58 60 48 89 115 121...</td>\n",
              "      <td>Training</td>\n",
              "    </tr>\n",
              "    <tr>\n",
              "      <th>2</th>\n",
              "      <td>0</td>\n",
              "      <td>151 150 147 155 148 133 111 140 170 174 182 15...</td>\n",
              "      <td>Training</td>\n",
              "    </tr>\n",
              "    <tr>\n",
              "      <th>3</th>\n",
              "      <td>2</td>\n",
              "      <td>231 212 156 164 174 138 161 173 182 200 106 38...</td>\n",
              "      <td>Training</td>\n",
              "    </tr>\n",
              "    <tr>\n",
              "      <th>4</th>\n",
              "      <td>4</td>\n",
              "      <td>24 32 36 30 32 23 19 20 30 41 21 22 32 34 21 1...</td>\n",
              "      <td>Training</td>\n",
              "    </tr>\n",
              "    <tr>\n",
              "      <th>5</th>\n",
              "      <td>6</td>\n",
              "      <td>4 0 0 0 0 0 0 0 0 0 0 0 3 15 23 28 48 50 58 84...</td>\n",
              "      <td>Training</td>\n",
              "    </tr>\n",
              "    <tr>\n",
              "      <th>6</th>\n",
              "      <td>2</td>\n",
              "      <td>55 55 55 55 55 54 60 68 54 85 151 163 170 179 ...</td>\n",
              "      <td>Training</td>\n",
              "    </tr>\n",
              "    <tr>\n",
              "      <th>7</th>\n",
              "      <td>4</td>\n",
              "      <td>20 17 19 21 25 38 42 42 46 54 56 62 63 66 82 1...</td>\n",
              "      <td>Training</td>\n",
              "    </tr>\n",
              "    <tr>\n",
              "      <th>8</th>\n",
              "      <td>3</td>\n",
              "      <td>77 78 79 79 78 75 60 55 47 48 58 73 77 79 57 5...</td>\n",
              "      <td>Training</td>\n",
              "    </tr>\n",
              "    <tr>\n",
              "      <th>9</th>\n",
              "      <td>3</td>\n",
              "      <td>85 84 90 121 101 102 133 153 153 169 177 189 1...</td>\n",
              "      <td>Training</td>\n",
              "    </tr>\n",
              "  </tbody>\n",
              "</table>\n",
              "</div>"
            ],
            "text/plain": [
              "   emotion                                             pixels     usage\n",
              "0  emotion                                             pixels     Usage\n",
              "1        0  70 80 82 72 58 58 60 63 54 58 60 48 89 115 121...  Training\n",
              "2        0  151 150 147 155 148 133 111 140 170 174 182 15...  Training\n",
              "3        2  231 212 156 164 174 138 161 173 182 200 106 38...  Training\n",
              "4        4  24 32 36 30 32 23 19 20 30 41 21 22 32 34 21 1...  Training\n",
              "5        6  4 0 0 0 0 0 0 0 0 0 0 0 3 15 23 28 48 50 58 84...  Training\n",
              "6        2  55 55 55 55 55 54 60 68 54 85 151 163 170 179 ...  Training\n",
              "7        4  20 17 19 21 25 38 42 42 46 54 56 62 63 66 82 1...  Training\n",
              "8        3  77 78 79 79 78 75 60 55 47 48 58 73 77 79 57 5...  Training\n",
              "9        3  85 84 90 121 101 102 133 153 153 169 177 189 1...  Training"
            ]
          },
          "metadata": {
            "tags": []
          },
          "execution_count": 3
        }
      ]
    },
    {
      "cell_type": "code",
      "metadata": {
        "id": "VETV2iIzOYSF"
      },
      "source": [
        "\r\n",
        "import keras\r\n",
        "from keras.preprocessing import image\r\n",
        "from keras.preprocessing.image import ImageDataGenerator\r\n",
        "import matplotlib.pyplot as plt\r\n",
        "from sklearn.model_selection import train_test_split\r\n",
        "from keras.models import Sequential\r\n",
        "from keras.layers import Dense, Dropout, Activation, Flatten\r\n",
        "from keras.layers import Conv2D, MaxPooling2D, BatchNormalization\r\n",
        "from keras.losses import categorical_crossentropy\r\n",
        "from keras.optimizers import Adam\r\n",
        "from keras.regularizers import l2\r\n",
        "\r\n",
        "num_features = 64\r\n",
        "num_labels = 7\r\n",
        "batch_size = 64\r\n",
        "epochs = 100\r\n",
        "width, height = 48, 48"
      ],
      "execution_count": null,
      "outputs": []
    },
    {
      "cell_type": "code",
      "metadata": {
        "id": "IzxKMmPxSDyv"
      },
      "source": [
        ""
      ],
      "execution_count": null,
      "outputs": []
    },
    {
      "cell_type": "code",
      "metadata": {
        "id": "bECDFuXQRjgh"
      },
      "source": [
        "data = pd.read_csv('drive/MyDrive/face_exp//fer2013.csv')\r\n",
        "datapoints = data['pixels'].tolist()\r\n",
        "\r\n",
        "#getting features for training\r\n",
        "X = []\r\n",
        "for xseq in datapoints:\r\n",
        "    xx = [int(xp) for xp in xseq.split(' ')]\r\n",
        "    xx = np.asarray(xx).reshape(width, height)\r\n",
        "    X.append(xx.astype('float32'))\r\n",
        "\r\n",
        "X = np.asarray(X)\r\n",
        "X = np.expand_dims(X, -1)\r\n",
        "\r\n",
        "#getting labels for training\r\n"
      ],
      "execution_count": null,
      "outputs": []
    },
    {
      "cell_type": "code",
      "metadata": {
        "id": "FtjQzYLatXji"
      },
      "source": [
        "y = pd.get_dummies(data['emotion']).to_numpy()"
      ],
      "execution_count": null,
      "outputs": []
    },
    {
      "cell_type": "code",
      "metadata": {
        "id": "oaLvYtx7hYl9"
      },
      "source": [
        "#x = X\r\n",
        "X -= np.mean(X, axis=0)"
      ],
      "execution_count": null,
      "outputs": []
    },
    {
      "cell_type": "code",
      "metadata": {
        "id": "w7gX9g3shZVD"
      },
      "source": [
        "X /= np.std(X, axis=0)"
      ],
      "execution_count": null,
      "outputs": []
    },
    {
      "cell_type": "code",
      "metadata": {
        "id": "9DEYBGfFi3Dj"
      },
      "source": [
        "X_train, X_test, y_train, y_test = train_test_split(X, y, test_size=0.1, random_state=42)\r\n",
        "X_train, X_valid, y_train, y_valid = train_test_split(X_train, y_train, test_size=0.1, random_state=41)"
      ],
      "execution_count": null,
      "outputs": []
    },
    {
      "cell_type": "code",
      "metadata": {
        "id": "GdlEVZhajXKK"
      },
      "source": [
        "def get_model():\r\n",
        "  model = Sequential()\r\n",
        "\r\n",
        "  model.add(Conv2D(num_features, kernel_size=(3, 3), activation='relu', input_shape=(width, height, 1), data_format='channels_last', kernel_regularizer=l2(0.01)))\r\n",
        "  model.add(Conv2D(num_features, kernel_size=(3, 3), activation='relu', padding='same'))\r\n",
        "  model.add(BatchNormalization())\r\n",
        "  model.add(MaxPooling2D(pool_size=(2, 2), strides=(2, 2)))\r\n",
        "  model.add(Dropout(0.5))\r\n",
        "\r\n",
        "  model.add(Conv2D(2*num_features, kernel_size=(3, 3), activation='relu', padding='same'))\r\n",
        "  model.add(BatchNormalization())\r\n",
        "  model.add(Conv2D(2*num_features, kernel_size=(3, 3), activation='relu', padding='same'))\r\n",
        "  model.add(BatchNormalization())\r\n",
        "  model.add(MaxPooling2D(pool_size=(2, 2), strides=(2, 2)))\r\n",
        "  model.add(Dropout(0.5))\r\n",
        "\r\n",
        "  model.add(Conv2D(2*2*num_features, kernel_size=(3, 3), activation='relu', padding='same'))\r\n",
        "  model.add(BatchNormalization())\r\n",
        "  model.add(Conv2D(2*2*num_features, kernel_size=(3, 3), activation='relu', padding='same'))\r\n",
        "  model.add(BatchNormalization())\r\n",
        "  model.add(MaxPooling2D(pool_size=(2, 2), strides=(2, 2)))\r\n",
        "  model.add(Dropout(0.5))\r\n",
        "\r\n",
        "  model.add(Conv2D(2*2*2*num_features, kernel_size=(3, 3), activation='relu', padding='same'))\r\n",
        "  model.add(BatchNormalization())\r\n",
        "  model.add(Conv2D(2*2*2*num_features, kernel_size=(3, 3), activation='relu', padding='same'))\r\n",
        "  model.add(BatchNormalization())\r\n",
        "  model.add(MaxPooling2D(pool_size=(2, 2), strides=(2, 2)))\r\n",
        "  model.add(Dropout(0.5))\r\n",
        "\r\n",
        "  model.add(Flatten())\r\n",
        "\r\n",
        "  model.add(Dense(2*2*2*num_features, activation='relu'))\r\n",
        "  model.add(Dropout(0.4))\r\n",
        "  model.add(Dense(2*2*num_features, activation='relu'))\r\n",
        "  model.add(Dropout(0.4))\r\n",
        "  model.add(Dense(2*num_features, activation='relu'))\r\n",
        "  model.add(Dropout(0.5))\r\n",
        "\r\n",
        "  model.add(Dense(num_labels, activation='softmax'))\r\n",
        "\r\n",
        "  return model\r\n",
        "#model.summary()"
      ],
      "execution_count": null,
      "outputs": []
    },
    {
      "cell_type": "code",
      "metadata": {
        "id": "n5UOk8auj6xF"
      },
      "source": [
        "model1= get_model()"
      ],
      "execution_count": null,
      "outputs": []
    },
    {
      "cell_type": "code",
      "metadata": {
        "colab": {
          "base_uri": "https://localhost:8080/"
        },
        "id": "H-KNet-Qj_VN",
        "outputId": "c87b99b0-525b-4518-e8c1-4279072f669b"
      },
      "source": [
        "model1.summary()"
      ],
      "execution_count": null,
      "outputs": [
        {
          "output_type": "stream",
          "text": [
            "Model: \"sequential\"\n",
            "_________________________________________________________________\n",
            "Layer (type)                 Output Shape              Param #   \n",
            "=================================================================\n",
            "conv2d (Conv2D)              (None, 46, 46, 64)        640       \n",
            "_________________________________________________________________\n",
            "conv2d_1 (Conv2D)            (None, 46, 46, 64)        36928     \n",
            "_________________________________________________________________\n",
            "batch_normalization (BatchNo (None, 46, 46, 64)        256       \n",
            "_________________________________________________________________\n",
            "max_pooling2d (MaxPooling2D) (None, 23, 23, 64)        0         \n",
            "_________________________________________________________________\n",
            "dropout (Dropout)            (None, 23, 23, 64)        0         \n",
            "_________________________________________________________________\n",
            "conv2d_2 (Conv2D)            (None, 23, 23, 128)       73856     \n",
            "_________________________________________________________________\n",
            "batch_normalization_1 (Batch (None, 23, 23, 128)       512       \n",
            "_________________________________________________________________\n",
            "conv2d_3 (Conv2D)            (None, 23, 23, 128)       147584    \n",
            "_________________________________________________________________\n",
            "batch_normalization_2 (Batch (None, 23, 23, 128)       512       \n",
            "_________________________________________________________________\n",
            "max_pooling2d_1 (MaxPooling2 (None, 11, 11, 128)       0         \n",
            "_________________________________________________________________\n",
            "dropout_1 (Dropout)          (None, 11, 11, 128)       0         \n",
            "_________________________________________________________________\n",
            "conv2d_4 (Conv2D)            (None, 11, 11, 256)       295168    \n",
            "_________________________________________________________________\n",
            "batch_normalization_3 (Batch (None, 11, 11, 256)       1024      \n",
            "_________________________________________________________________\n",
            "conv2d_5 (Conv2D)            (None, 11, 11, 256)       590080    \n",
            "_________________________________________________________________\n",
            "batch_normalization_4 (Batch (None, 11, 11, 256)       1024      \n",
            "_________________________________________________________________\n",
            "max_pooling2d_2 (MaxPooling2 (None, 5, 5, 256)         0         \n",
            "_________________________________________________________________\n",
            "dropout_2 (Dropout)          (None, 5, 5, 256)         0         \n",
            "_________________________________________________________________\n",
            "conv2d_6 (Conv2D)            (None, 5, 5, 512)         1180160   \n",
            "_________________________________________________________________\n",
            "batch_normalization_5 (Batch (None, 5, 5, 512)         2048      \n",
            "_________________________________________________________________\n",
            "conv2d_7 (Conv2D)            (None, 5, 5, 512)         2359808   \n",
            "_________________________________________________________________\n",
            "batch_normalization_6 (Batch (None, 5, 5, 512)         2048      \n",
            "_________________________________________________________________\n",
            "max_pooling2d_3 (MaxPooling2 (None, 2, 2, 512)         0         \n",
            "_________________________________________________________________\n",
            "dropout_3 (Dropout)          (None, 2, 2, 512)         0         \n",
            "_________________________________________________________________\n",
            "flatten (Flatten)            (None, 2048)              0         \n",
            "_________________________________________________________________\n",
            "dense (Dense)                (None, 512)               1049088   \n",
            "_________________________________________________________________\n",
            "dropout_4 (Dropout)          (None, 512)               0         \n",
            "_________________________________________________________________\n",
            "dense_1 (Dense)              (None, 256)               131328    \n",
            "_________________________________________________________________\n",
            "dropout_5 (Dropout)          (None, 256)               0         \n",
            "_________________________________________________________________\n",
            "dense_2 (Dense)              (None, 128)               32896     \n",
            "_________________________________________________________________\n",
            "dropout_6 (Dropout)          (None, 128)               0         \n",
            "_________________________________________________________________\n",
            "dense_3 (Dense)              (None, 7)                 903       \n",
            "=================================================================\n",
            "Total params: 5,905,863\n",
            "Trainable params: 5,902,151\n",
            "Non-trainable params: 3,712\n",
            "_________________________________________________________________\n"
          ],
          "name": "stdout"
        }
      ]
    },
    {
      "cell_type": "code",
      "metadata": {
        "colab": {
          "base_uri": "https://localhost:8080/"
        },
        "id": "bmtzkUflkvmL",
        "outputId": "c8ee503b-f1e5-4ef7-f0e5-4044bab5981f"
      },
      "source": [
        "X_train.shape, y_train.shape"
      ],
      "execution_count": null,
      "outputs": [
        {
          "output_type": "execute_result",
          "data": {
            "text/plain": [
              "((29068, 48, 48, 1), (29068, 7))"
            ]
          },
          "metadata": {
            "tags": []
          },
          "execution_count": 19
        }
      ]
    },
    {
      "cell_type": "code",
      "metadata": {
        "id": "ZqrMDdKskNZ3"
      },
      "source": [
        "model1.compile(loss=categorical_crossentropy,\r\n",
        "              optimizer=Adam(lr=0.001, beta_1=0.9, beta_2=0.999, epsilon=1e-7),\r\n",
        "              metrics=['accuracy'])\r\n",
        "\r\n",
        "#training the model\r\n"
      ],
      "execution_count": null,
      "outputs": []
    },
    {
      "cell_type": "code",
      "metadata": {
        "id": "wvNHBqiGFU56"
      },
      "source": [
        "from tensorflow.keras.callbacks import EarlyStopping"
      ],
      "execution_count": null,
      "outputs": []
    },
    {
      "cell_type": "code",
      "metadata": {
        "id": "PPz1qGxEFbuA"
      },
      "source": [
        "es = EarlyStopping(monitor='val_accuracy', patience = 2, min_delta=0.01, verbose=1)"
      ],
      "execution_count": null,
      "outputs": []
    },
    {
      "cell_type": "code",
      "metadata": {
        "colab": {
          "base_uri": "https://localhost:8080/"
        },
        "id": "RZwabExLmRDA",
        "outputId": "3b16455e-9504-4cdf-d07b-05ec9b576b5f"
      },
      "source": [
        "model1.fit(np.array(X_train), np.array(y_train),\r\n",
        "          batch_size=batch_size,\r\n",
        "          epochs=epochs,\r\n",
        "          validation_data=(np.array(X_valid), np.array(y_valid)),\r\n",
        "          # callbacks=[es],\r\n",
        "          shuffle=True)"
      ],
      "execution_count": null,
      "outputs": [
        {
          "output_type": "stream",
          "text": [
            "Epoch 1/100\n",
            "455/455 [==============================] - 42s 92ms/step - loss: 1.1593 - accuracy: 0.5743 - val_loss: 1.1065 - val_accuracy: 0.5935\n",
            "Epoch 2/100\n",
            "455/455 [==============================] - 42s 92ms/step - loss: 1.1365 - accuracy: 0.5830 - val_loss: 1.1074 - val_accuracy: 0.6003\n",
            "Epoch 3/100\n",
            "455/455 [==============================] - 42s 92ms/step - loss: 1.1162 - accuracy: 0.5921 - val_loss: 1.0986 - val_accuracy: 0.5929\n",
            "Epoch 4/100\n",
            "455/455 [==============================] - 42s 92ms/step - loss: 1.0988 - accuracy: 0.6019 - val_loss: 1.0848 - val_accuracy: 0.6087\n",
            "Epoch 5/100\n",
            "455/455 [==============================] - 42s 92ms/step - loss: 1.0690 - accuracy: 0.6152 - val_loss: 1.0732 - val_accuracy: 0.6139\n",
            "Epoch 6/100\n",
            "455/455 [==============================] - 42s 92ms/step - loss: 1.0522 - accuracy: 0.6237 - val_loss: 1.0432 - val_accuracy: 0.6121\n",
            "Epoch 7/100\n",
            "455/455 [==============================] - 42s 92ms/step - loss: 1.0227 - accuracy: 0.6306 - val_loss: 1.0387 - val_accuracy: 0.6303\n",
            "Epoch 8/100\n",
            "455/455 [==============================] - 42s 92ms/step - loss: 1.0088 - accuracy: 0.6351 - val_loss: 1.0391 - val_accuracy: 0.6155\n",
            "Epoch 9/100\n",
            "455/455 [==============================] - 42s 92ms/step - loss: 0.9839 - accuracy: 0.6457 - val_loss: 1.0282 - val_accuracy: 0.6288\n",
            "Epoch 10/100\n",
            "455/455 [==============================] - 42s 92ms/step - loss: 0.9643 - accuracy: 0.6523 - val_loss: 1.0144 - val_accuracy: 0.6362\n",
            "Epoch 11/100\n",
            "455/455 [==============================] - 42s 92ms/step - loss: 0.9500 - accuracy: 0.6616 - val_loss: 1.0197 - val_accuracy: 0.6402\n",
            "Epoch 12/100\n",
            "455/455 [==============================] - 42s 92ms/step - loss: 0.9249 - accuracy: 0.6670 - val_loss: 1.0120 - val_accuracy: 0.6337\n",
            "Epoch 13/100\n",
            "455/455 [==============================] - 42s 92ms/step - loss: 0.9156 - accuracy: 0.6698 - val_loss: 1.0094 - val_accuracy: 0.6421\n",
            "Epoch 14/100\n",
            "455/455 [==============================] - 42s 92ms/step - loss: 0.8791 - accuracy: 0.6842 - val_loss: 1.0034 - val_accuracy: 0.6430\n",
            "Epoch 15/100\n",
            "455/455 [==============================] - 42s 92ms/step - loss: 0.8790 - accuracy: 0.6878 - val_loss: 1.0440 - val_accuracy: 0.6334\n",
            "Epoch 16/100\n",
            "455/455 [==============================] - 42s 93ms/step - loss: 0.8597 - accuracy: 0.6917 - val_loss: 1.0063 - val_accuracy: 0.6430\n",
            "Epoch 17/100\n",
            "455/455 [==============================] - 42s 92ms/step - loss: 0.8364 - accuracy: 0.7031 - val_loss: 1.0198 - val_accuracy: 0.6489\n",
            "Epoch 18/100\n",
            "455/455 [==============================] - 42s 92ms/step - loss: 0.8192 - accuracy: 0.7085 - val_loss: 1.0136 - val_accuracy: 0.6387\n",
            "Epoch 19/100\n",
            "455/455 [==============================] - 42s 92ms/step - loss: 0.8117 - accuracy: 0.7123 - val_loss: 1.0393 - val_accuracy: 0.6443\n",
            "Epoch 20/100\n",
            "455/455 [==============================] - 42s 92ms/step - loss: 0.7921 - accuracy: 0.7190 - val_loss: 1.0520 - val_accuracy: 0.6511\n",
            "Epoch 21/100\n",
            "455/455 [==============================] - 42s 92ms/step - loss: 0.7799 - accuracy: 0.7256 - val_loss: 1.0093 - val_accuracy: 0.6607\n",
            "Epoch 22/100\n",
            "455/455 [==============================] - 42s 92ms/step - loss: 0.7656 - accuracy: 0.7290 - val_loss: 1.0349 - val_accuracy: 0.6467\n",
            "Epoch 23/100\n",
            "455/455 [==============================] - 42s 92ms/step - loss: 0.7621 - accuracy: 0.7306 - val_loss: 1.0258 - val_accuracy: 0.6461\n",
            "Epoch 24/100\n",
            "455/455 [==============================] - 42s 92ms/step - loss: 0.7323 - accuracy: 0.7407 - val_loss: 1.0367 - val_accuracy: 0.6526\n",
            "Epoch 25/100\n",
            "455/455 [==============================] - 42s 92ms/step - loss: 0.7116 - accuracy: 0.7518 - val_loss: 1.0374 - val_accuracy: 0.6539\n",
            "Epoch 26/100\n",
            "455/455 [==============================] - 42s 92ms/step - loss: 0.6983 - accuracy: 0.7527 - val_loss: 1.0190 - val_accuracy: 0.6554\n",
            "Epoch 27/100\n",
            "455/455 [==============================] - 42s 92ms/step - loss: 0.6807 - accuracy: 0.7612 - val_loss: 1.0525 - val_accuracy: 0.6591\n",
            "Epoch 28/100\n",
            "455/455 [==============================] - 42s 92ms/step - loss: 0.6662 - accuracy: 0.7693 - val_loss: 1.0887 - val_accuracy: 0.6520\n",
            "Epoch 29/100\n",
            "455/455 [==============================] - 42s 92ms/step - loss: 0.6548 - accuracy: 0.7736 - val_loss: 1.0454 - val_accuracy: 0.6644\n",
            "Epoch 30/100\n",
            "455/455 [==============================] - 42s 92ms/step - loss: 0.6478 - accuracy: 0.7768 - val_loss: 1.0467 - val_accuracy: 0.6663\n",
            "Epoch 31/100\n",
            "455/455 [==============================] - 42s 92ms/step - loss: 0.6310 - accuracy: 0.7804 - val_loss: 1.0553 - val_accuracy: 0.6675\n",
            "Epoch 32/100\n",
            "455/455 [==============================] - 42s 92ms/step - loss: 0.6266 - accuracy: 0.7848 - val_loss: 1.0699 - val_accuracy: 0.6582\n",
            "Epoch 33/100\n",
            "455/455 [==============================] - 42s 92ms/step - loss: 0.6087 - accuracy: 0.7912 - val_loss: 1.0912 - val_accuracy: 0.6644\n",
            "Epoch 34/100\n",
            "455/455 [==============================] - 42s 92ms/step - loss: 0.6129 - accuracy: 0.7900 - val_loss: 1.1265 - val_accuracy: 0.6632\n",
            "Epoch 35/100\n",
            "455/455 [==============================] - 42s 92ms/step - loss: 0.5962 - accuracy: 0.7971 - val_loss: 1.0630 - val_accuracy: 0.6666\n",
            "Epoch 36/100\n",
            "455/455 [==============================] - 42s 92ms/step - loss: 0.5817 - accuracy: 0.8003 - val_loss: 1.1116 - val_accuracy: 0.6715\n",
            "Epoch 37/100\n",
            "455/455 [==============================] - 42s 92ms/step - loss: 0.5633 - accuracy: 0.8089 - val_loss: 1.1351 - val_accuracy: 0.6495\n",
            "Epoch 38/100\n",
            "455/455 [==============================] - 42s 92ms/step - loss: 0.5659 - accuracy: 0.8078 - val_loss: 1.1661 - val_accuracy: 0.6582\n",
            "Epoch 39/100\n",
            "455/455 [==============================] - 42s 92ms/step - loss: 0.5499 - accuracy: 0.8162 - val_loss: 1.1698 - val_accuracy: 0.6625\n",
            "Epoch 40/100\n",
            "455/455 [==============================] - 42s 92ms/step - loss: 0.5314 - accuracy: 0.8211 - val_loss: 1.1919 - val_accuracy: 0.6598\n",
            "Epoch 41/100\n",
            "455/455 [==============================] - 42s 92ms/step - loss: 0.5255 - accuracy: 0.8263 - val_loss: 1.1240 - val_accuracy: 0.6610\n",
            "Epoch 42/100\n",
            "455/455 [==============================] - 42s 92ms/step - loss: 0.5236 - accuracy: 0.8233 - val_loss: 1.1651 - val_accuracy: 0.6529\n",
            "Epoch 43/100\n",
            "455/455 [==============================] - 42s 92ms/step - loss: 0.5053 - accuracy: 0.8299 - val_loss: 1.1623 - val_accuracy: 0.6635\n",
            "Epoch 44/100\n",
            "455/455 [==============================] - 42s 92ms/step - loss: 0.4978 - accuracy: 0.8315 - val_loss: 1.1871 - val_accuracy: 0.6560\n",
            "Epoch 45/100\n",
            "455/455 [==============================] - 42s 92ms/step - loss: 0.4977 - accuracy: 0.8317 - val_loss: 1.2001 - val_accuracy: 0.6567\n",
            "Epoch 46/100\n",
            "455/455 [==============================] - 42s 92ms/step - loss: 0.4788 - accuracy: 0.8405 - val_loss: 1.1939 - val_accuracy: 0.6693\n",
            "Epoch 47/100\n",
            "455/455 [==============================] - 42s 91ms/step - loss: 0.4683 - accuracy: 0.8427 - val_loss: 1.2385 - val_accuracy: 0.6638\n",
            "Epoch 48/100\n",
            "455/455 [==============================] - 42s 92ms/step - loss: 0.4621 - accuracy: 0.8443 - val_loss: 1.2663 - val_accuracy: 0.6644\n",
            "Epoch 49/100\n",
            "455/455 [==============================] - 42s 92ms/step - loss: 0.4555 - accuracy: 0.8487 - val_loss: 1.2367 - val_accuracy: 0.6641\n",
            "Epoch 50/100\n",
            "455/455 [==============================] - 42s 92ms/step - loss: 0.4585 - accuracy: 0.8483 - val_loss: 1.2022 - val_accuracy: 0.6570\n",
            "Epoch 51/100\n",
            "455/455 [==============================] - 42s 92ms/step - loss: 0.4442 - accuracy: 0.8523 - val_loss: 1.2411 - val_accuracy: 0.6703\n",
            "Epoch 52/100\n",
            "455/455 [==============================] - 42s 92ms/step - loss: 0.4417 - accuracy: 0.8575 - val_loss: 1.2853 - val_accuracy: 0.6641\n",
            "Epoch 53/100\n",
            "455/455 [==============================] - 42s 92ms/step - loss: 0.4214 - accuracy: 0.8616 - val_loss: 1.3348 - val_accuracy: 0.6554\n",
            "Epoch 54/100\n",
            "455/455 [==============================] - 42s 92ms/step - loss: 0.4203 - accuracy: 0.8622 - val_loss: 1.2332 - val_accuracy: 0.6585\n",
            "Epoch 55/100\n",
            "455/455 [==============================] - 42s 92ms/step - loss: 0.4194 - accuracy: 0.8644 - val_loss: 1.2391 - val_accuracy: 0.6570\n",
            "Epoch 56/100\n",
            "455/455 [==============================] - 42s 92ms/step - loss: 0.4051 - accuracy: 0.8671 - val_loss: 1.2432 - val_accuracy: 0.6697\n",
            "Epoch 57/100\n",
            "455/455 [==============================] - 42s 92ms/step - loss: 0.3983 - accuracy: 0.8685 - val_loss: 1.2850 - val_accuracy: 0.6588\n",
            "Epoch 58/100\n",
            "455/455 [==============================] - 42s 92ms/step - loss: 0.4010 - accuracy: 0.8700 - val_loss: 1.2496 - val_accuracy: 0.6601\n",
            "Epoch 59/100\n",
            "455/455 [==============================] - 42s 92ms/step - loss: 0.3954 - accuracy: 0.8727 - val_loss: 1.2692 - val_accuracy: 0.6523\n",
            "Epoch 60/100\n",
            "455/455 [==============================] - 42s 92ms/step - loss: 0.3827 - accuracy: 0.8788 - val_loss: 1.3128 - val_accuracy: 0.6607\n",
            "Epoch 61/100\n",
            "455/455 [==============================] - 42s 92ms/step - loss: 0.3843 - accuracy: 0.8745 - val_loss: 1.3049 - val_accuracy: 0.6672\n",
            "Epoch 62/100\n",
            "455/455 [==============================] - 42s 92ms/step - loss: 0.3638 - accuracy: 0.8833 - val_loss: 1.2737 - val_accuracy: 0.6678\n",
            "Epoch 63/100\n",
            "455/455 [==============================] - 42s 92ms/step - loss: 0.3703 - accuracy: 0.8779 - val_loss: 1.3404 - val_accuracy: 0.6601\n",
            "Epoch 64/100\n",
            "455/455 [==============================] - 42s 92ms/step - loss: 0.3639 - accuracy: 0.8857 - val_loss: 1.2909 - val_accuracy: 0.6632\n",
            "Epoch 65/100\n",
            "455/455 [==============================] - 42s 92ms/step - loss: 0.3615 - accuracy: 0.8834 - val_loss: 1.2696 - val_accuracy: 0.6690\n",
            "Epoch 66/100\n",
            "455/455 [==============================] - 42s 92ms/step - loss: 0.3514 - accuracy: 0.8895 - val_loss: 1.3431 - val_accuracy: 0.6576\n",
            "Epoch 67/100\n",
            "455/455 [==============================] - 42s 92ms/step - loss: 0.3514 - accuracy: 0.8859 - val_loss: 1.3897 - val_accuracy: 0.6594\n",
            "Epoch 68/100\n",
            "455/455 [==============================] - 42s 92ms/step - loss: 0.3496 - accuracy: 0.8886 - val_loss: 1.3374 - val_accuracy: 0.6628\n",
            "Epoch 69/100\n",
            "455/455 [==============================] - 42s 92ms/step - loss: 0.3459 - accuracy: 0.8883 - val_loss: 1.3524 - val_accuracy: 0.6641\n",
            "Epoch 70/100\n",
            "455/455 [==============================] - 42s 92ms/step - loss: 0.3388 - accuracy: 0.8919 - val_loss: 1.3054 - val_accuracy: 0.6647\n",
            "Epoch 71/100\n",
            "455/455 [==============================] - 42s 92ms/step - loss: 0.3325 - accuracy: 0.8931 - val_loss: 1.4094 - val_accuracy: 0.6659\n",
            "Epoch 72/100\n",
            "455/455 [==============================] - 42s 92ms/step - loss: 0.3219 - accuracy: 0.8959 - val_loss: 1.3863 - val_accuracy: 0.6703\n",
            "Epoch 73/100\n",
            "455/455 [==============================] - 42s 92ms/step - loss: 0.3257 - accuracy: 0.8960 - val_loss: 1.3478 - val_accuracy: 0.6625\n",
            "Epoch 74/100\n",
            "455/455 [==============================] - 42s 92ms/step - loss: 0.3322 - accuracy: 0.8959 - val_loss: 1.3105 - val_accuracy: 0.6644\n",
            "Epoch 75/100\n",
            "455/455 [==============================] - 42s 92ms/step - loss: 0.3111 - accuracy: 0.9010 - val_loss: 1.4000 - val_accuracy: 0.6684\n",
            "Epoch 76/100\n",
            "455/455 [==============================] - 42s 92ms/step - loss: 0.3085 - accuracy: 0.9014 - val_loss: 1.3725 - val_accuracy: 0.6619\n",
            "Epoch 77/100\n",
            "455/455 [==============================] - 42s 92ms/step - loss: 0.3044 - accuracy: 0.9043 - val_loss: 1.3994 - val_accuracy: 0.6480\n",
            "Epoch 78/100\n",
            "455/455 [==============================] - 42s 92ms/step - loss: 0.3074 - accuracy: 0.9031 - val_loss: 1.4096 - val_accuracy: 0.6663\n",
            "Epoch 79/100\n",
            "455/455 [==============================] - 42s 92ms/step - loss: 0.2979 - accuracy: 0.9062 - val_loss: 1.3772 - val_accuracy: 0.6697\n",
            "Epoch 80/100\n",
            "455/455 [==============================] - 42s 92ms/step - loss: 0.2974 - accuracy: 0.9064 - val_loss: 1.3968 - val_accuracy: 0.6613\n",
            "Epoch 81/100\n",
            "455/455 [==============================] - 42s 92ms/step - loss: 0.2967 - accuracy: 0.9059 - val_loss: 1.4347 - val_accuracy: 0.6607\n",
            "Epoch 82/100\n",
            "455/455 [==============================] - 42s 92ms/step - loss: 0.2926 - accuracy: 0.9085 - val_loss: 1.3881 - val_accuracy: 0.6641\n",
            "Epoch 83/100\n",
            "455/455 [==============================] - 42s 92ms/step - loss: 0.2887 - accuracy: 0.9081 - val_loss: 1.3779 - val_accuracy: 0.6616\n",
            "Epoch 84/100\n",
            "455/455 [==============================] - 42s 92ms/step - loss: 0.2919 - accuracy: 0.9097 - val_loss: 1.4679 - val_accuracy: 0.6573\n",
            "Epoch 85/100\n",
            "455/455 [==============================] - 42s 92ms/step - loss: 0.2815 - accuracy: 0.9129 - val_loss: 1.4015 - val_accuracy: 0.6650\n",
            "Epoch 86/100\n",
            "455/455 [==============================] - 42s 92ms/step - loss: 0.2721 - accuracy: 0.9160 - val_loss: 1.4772 - val_accuracy: 0.6591\n",
            "Epoch 87/100\n",
            "455/455 [==============================] - 42s 92ms/step - loss: 0.2715 - accuracy: 0.9164 - val_loss: 1.5226 - val_accuracy: 0.6594\n",
            "Epoch 88/100\n",
            "455/455 [==============================] - 42s 92ms/step - loss: 0.2699 - accuracy: 0.9164 - val_loss: 1.5332 - val_accuracy: 0.6690\n",
            "Epoch 89/100\n",
            "455/455 [==============================] - 42s 92ms/step - loss: 0.2657 - accuracy: 0.9181 - val_loss: 1.4900 - val_accuracy: 0.6672\n",
            "Epoch 90/100\n",
            "455/455 [==============================] - 42s 92ms/step - loss: 0.2681 - accuracy: 0.9170 - val_loss: 1.4638 - val_accuracy: 0.6663\n",
            "Epoch 91/100\n",
            "455/455 [==============================] - 42s 92ms/step - loss: 0.2642 - accuracy: 0.9192 - val_loss: 1.5016 - val_accuracy: 0.6638\n",
            "Epoch 92/100\n",
            "455/455 [==============================] - 42s 92ms/step - loss: 0.2655 - accuracy: 0.9193 - val_loss: 1.3639 - val_accuracy: 0.6684\n",
            "Epoch 93/100\n",
            "455/455 [==============================] - 42s 92ms/step - loss: 0.2683 - accuracy: 0.9174 - val_loss: 1.4233 - val_accuracy: 0.6693\n",
            "Epoch 94/100\n",
            "455/455 [==============================] - 42s 92ms/step - loss: 0.2657 - accuracy: 0.9160 - val_loss: 1.5223 - val_accuracy: 0.6619\n",
            "Epoch 95/100\n",
            "455/455 [==============================] - 42s 92ms/step - loss: 0.2569 - accuracy: 0.9202 - val_loss: 1.5340 - val_accuracy: 0.6632\n",
            "Epoch 96/100\n",
            "455/455 [==============================] - 42s 92ms/step - loss: 0.2557 - accuracy: 0.9223 - val_loss: 1.5421 - val_accuracy: 0.6666\n",
            "Epoch 97/100\n",
            "455/455 [==============================] - 42s 92ms/step - loss: 0.2462 - accuracy: 0.9243 - val_loss: 1.4959 - val_accuracy: 0.6591\n",
            "Epoch 98/100\n",
            "455/455 [==============================] - 42s 92ms/step - loss: 0.2470 - accuracy: 0.9249 - val_loss: 1.5164 - val_accuracy: 0.6638\n",
            "Epoch 99/100\n",
            "455/455 [==============================] - 42s 92ms/step - loss: 0.2479 - accuracy: 0.9245 - val_loss: 1.4615 - val_accuracy: 0.6632\n",
            "Epoch 100/100\n",
            "455/455 [==============================] - 42s 92ms/step - loss: 0.2371 - accuracy: 0.9272 - val_loss: 1.5550 - val_accuracy: 0.6669\n"
          ],
          "name": "stdout"
        },
        {
          "output_type": "execute_result",
          "data": {
            "text/plain": [
              "<tensorflow.python.keras.callbacks.History at 0x7f167673da90>"
            ]
          },
          "metadata": {
            "tags": []
          },
          "execution_count": 28
        }
      ]
    },
    {
      "cell_type": "code",
      "metadata": {
        "id": "lTeYFmWfQTt6"
      },
      "source": [
        "from keras.models import load_model \r\n",
        "model1.save(\"drive/MyDrive/face_exp/cnn_network.h5\") \r\n",
        "loaded_model = load_model(\"drive/MyDrive/face_exp/cnn_network.h5\")  "
      ],
      "execution_count": null,
      "outputs": []
    },
    {
      "cell_type": "code",
      "metadata": {
        "id": "GerzUfmBS1vG"
      },
      "source": [
        ""
      ],
      "execution_count": null,
      "outputs": []
    },
    {
      "cell_type": "code",
      "metadata": {
        "id": "fOHfKAq_JGsd"
      },
      "source": [
        "objects = ('angry', 'disgust', 'fear', 'happy', 'sad', 'surprise', 'neutral')\r\n",
        "# y_pos = np.arange(len(objects))\r\n",
        "# print(y_pos)\r\n",
        "\r\n",
        "# def emotion_analysis(emotions):\r\n",
        "#     objects = ['angry', 'disgust', 'fear', 'happy', 'sad', 'surprise', 'neutral']\r\n",
        "#     y_pos = np.arange(len(objects))\r\n",
        "#     plt.bar(y_pos, emotions, align='center', alpha=0.9)\r\n",
        "#     plt.tick_params(axis='x', which='both', pad=10,width=4,length=10)\r\n",
        "#     plt.xticks(y_pos, objects)\r\n",
        "#     plt.ylabel('percentage')\r\n",
        "#     plt.title('emotion')\r\n",
        "    \r\n",
        "# plt.show()\r\n",
        "\r\n"
      ],
      "execution_count": null,
      "outputs": []
    },
    {
      "cell_type": "code",
      "metadata": {
        "id": "8xttyXSn9NWI"
      },
      "source": [
        "img = Image.open(im_file)\r\n",
        "img = img.convert('RGB')"
      ],
      "execution_count": null,
      "outputs": []
    },
    {
      "cell_type": "code",
      "metadata": {
        "id": "Um-d-rZCHkLD"
      },
      "source": [
        "from skimage import io\r\n",
        "from keras.preprocessing import image\r\n",
        "img = image.load_img('/content/drive/MyDrive/Image Document/ghultu 1.jpg', color_mode=\"grayscale\", target_size=(48, 48))\r\n",
        "show_img=image.load_img('/content/drive/MyDrive/Image Document/ghultu 1.jpg',  target_size=(200, 200))\r\n",
        "x = image.img_to_array(img)\r\n"
      ],
      "execution_count": null,
      "outputs": []
    },
    {
      "cell_type": "code",
      "metadata": {
        "colab": {
          "base_uri": "https://localhost:8080/",
          "height": 267
        },
        "id": "4SD-QYBA4lU3",
        "outputId": "b243f62b-b005-475f-afbf-0a87fdaf0418"
      },
      "source": [
        "plt.gray()\r\n",
        "plt.imshow(img)\r\n",
        "plt.show()"
      ],
      "execution_count": null,
      "outputs": [
        {
          "output_type": "display_data",
          "data": {
            "image/png": "[encoded data removed]",
            "text/plain": [
              "<Figure size 432x288 with 1 Axes>"
            ]
          },
          "metadata": {
            "tags": [],
            "needs_background": "light"
          }
        }
      ]
    },
    {
      "cell_type": "code",
      "metadata": {
        "colab": {
          "base_uri": "https://localhost:8080/",
          "height": 294
        },
        "id": "2W3NWPwZOZSd",
        "outputId": "be0122bc-d650-4d85-e205-1d050e9c0567"
      },
      "source": [
        "x = np.expand_dims(x, axis = 0)\r\n",
        "\r\n",
        "x /= 255\r\n",
        "\r\n",
        "custom = loaded_model.predict(x)\r\n",
        "#print(custom[0])\r\n",
        "emotion_analysis(custom[0])\r\n",
        "\r\n",
        "x = np.array(x, 'float32')\r\n",
        "x = x.reshape([48, 48])"
      ],
      "execution_count": null,
      "outputs": [
        {
          "output_type": "display_data",
          "data": {
            "image/png": "[encoded data removed]",
            "text/plain": [
              "<Figure size 432x288 with 1 Axes>"
            ]
          },
          "metadata": {
            "tags": [],
            "needs_background": "light"
          }
        }
      ]
    },
    {
      "cell_type": "code",
      "metadata": {
        "colab": {
          "base_uri": "https://localhost:8080/",
          "height": 287
        },
        "id": "LdPmvZOzM-R0",
        "outputId": "6db12017-d78f-49a1-ee51-524527cf9573"
      },
      "source": [
        "\r\n",
        "\r\n",
        "# x /= 255\r\n",
        "\r\n",
        "\r\n",
        "plt.gray()\r\n",
        "plt.imshow(show_img)\r\n",
        "plt.show()\r\n",
        "\r\n",
        "m=0.000000000000000000001\r\n",
        "a=custom[0]\r\n",
        "for i in range(0,len(a)):\r\n",
        "    if a[i]>m:\r\n",
        "        m=a[i]\r\n",
        "        ind=i\r\n",
        "        \r\n",
        "print('Expression Prediction:',objects[ind])"
      ],
      "execution_count": null,
      "outputs": [
        {
          "output_type": "display_data",
          "data": {
            "image/png": "[encoded data removed]",
            "text/plain": [
              "<Figure size 432x288 with 1 Axes>"
            ]
          },
          "metadata": {
            "tags": [],
            "needs_background": "light"
          }
        },
        {
          "output_type": "stream",
          "text": [
            "Expression Prediction: happy\n"
          ],
          "name": "stdout"
        }
      ]
    }
  ]
}